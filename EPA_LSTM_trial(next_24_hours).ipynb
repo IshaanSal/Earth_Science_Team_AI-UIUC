{
  "nbformat": 4,
  "nbformat_minor": 0,
  "metadata": {
    "colab": {
      "provenance": [],
      "gpuType": "T4"
    },
    "kernelspec": {
      "name": "python3",
      "display_name": "Python 3"
    },
    "language_info": {
      "name": "python"
    },
    "accelerator": "GPU"
  },
  "cells": [
    {
      "cell_type": "markdown",
      "source": [
        "https://aqs.epa.gov/aqsweb/airdata/download_files.html#Raw\n",
        "➡ CO (42101)\n",
        "\n",
        "This is the link to the original dataset the model needs to be trained on\n",
        "\n",
        "**The data file I used in this notebook is a reduced version of the original to run faster on colab\n",
        "\n",
        "**Original(1000000+ lines) ThisVersion(200 lines)"
      ],
      "metadata": {
        "id": "1sgJf7hYXWV8"
      }
    },
    {
      "cell_type": "code",
      "source": [
        "pip install cartopy"
      ],
      "metadata": {
        "colab": {
          "base_uri": "https://localhost:8080/"
        },
        "id": "lFFUz9mbyrn0",
        "outputId": "b98cd65f-de7c-41ac-a102-8fab8ac58a4a"
      },
      "execution_count": null,
      "outputs": [
        {
          "output_type": "stream",
          "name": "stdout",
          "text": [
            "Collecting cartopy\n",
            "  Downloading Cartopy-0.22.0-cp310-cp310-manylinux_2_17_x86_64.manylinux2014_x86_64.whl (11.8 MB)\n",
            "\u001b[2K     \u001b[90m━━━━━━━━━━━━━━━━━━━━━━━━━━━━━━━━━━━━━━━━\u001b[0m \u001b[32m11.8/11.8 MB\u001b[0m \u001b[31m78.6 MB/s\u001b[0m eta \u001b[36m0:00:00\u001b[0m\n",
            "\u001b[?25hRequirement already satisfied: numpy>=1.21 in /usr/local/lib/python3.10/dist-packages (from cartopy) (1.23.5)\n",
            "Requirement already satisfied: matplotlib>=3.4 in /usr/local/lib/python3.10/dist-packages (from cartopy) (3.7.1)\n",
            "Requirement already satisfied: shapely>=1.7 in /usr/local/lib/python3.10/dist-packages (from cartopy) (2.0.1)\n",
            "Requirement already satisfied: packaging>=20 in /usr/local/lib/python3.10/dist-packages (from cartopy) (23.1)\n",
            "Requirement already satisfied: pyshp>=2.1 in /usr/local/lib/python3.10/dist-packages (from cartopy) (2.3.1)\n",
            "Requirement already satisfied: pyproj>=3.1.0 in /usr/local/lib/python3.10/dist-packages (from cartopy) (3.6.0)\n",
            "Requirement already satisfied: contourpy>=1.0.1 in /usr/local/lib/python3.10/dist-packages (from matplotlib>=3.4->cartopy) (1.1.0)\n",
            "Requirement already satisfied: cycler>=0.10 in /usr/local/lib/python3.10/dist-packages (from matplotlib>=3.4->cartopy) (0.11.0)\n",
            "Requirement already satisfied: fonttools>=4.22.0 in /usr/local/lib/python3.10/dist-packages (from matplotlib>=3.4->cartopy) (4.42.1)\n",
            "Requirement already satisfied: kiwisolver>=1.0.1 in /usr/local/lib/python3.10/dist-packages (from matplotlib>=3.4->cartopy) (1.4.5)\n",
            "Requirement already satisfied: pillow>=6.2.0 in /usr/local/lib/python3.10/dist-packages (from matplotlib>=3.4->cartopy) (9.4.0)\n",
            "Requirement already satisfied: pyparsing>=2.3.1 in /usr/local/lib/python3.10/dist-packages (from matplotlib>=3.4->cartopy) (3.1.1)\n",
            "Requirement already satisfied: python-dateutil>=2.7 in /usr/local/lib/python3.10/dist-packages (from matplotlib>=3.4->cartopy) (2.8.2)\n",
            "Requirement already satisfied: certifi in /usr/local/lib/python3.10/dist-packages (from pyproj>=3.1.0->cartopy) (2023.7.22)\n",
            "Requirement already satisfied: six>=1.5 in /usr/local/lib/python3.10/dist-packages (from python-dateutil>=2.7->matplotlib>=3.4->cartopy) (1.16.0)\n",
            "Installing collected packages: cartopy\n",
            "Successfully installed cartopy-0.22.0\n"
          ]
        }
      ]
    },
    {
      "cell_type": "code",
      "execution_count": null,
      "metadata": {
        "id": "3VVNTsdYmO98"
      },
      "outputs": [],
      "source": [
        "import tensorflow as tf\n",
        "from tensorflow import keras\n",
        "import pandas as pd\n",
        "import numpy as np\n",
        "from keras.models import Sequential\n",
        "from keras.layers import LSTM, Dense\n",
        "import math\n",
        "import cartopy.crs as ccrs\n",
        "import matplotlib.pyplot as plt"
      ]
    },
    {
      "cell_type": "code",
      "source": [
        "#Read csv\n",
        "\n",
        "df = pd.read_csv(\"hourly_42101_2021_new.csv\")"
      ],
      "metadata": {
        "id": "zKJM1-YGm0XB"
      },
      "execution_count": null,
      "outputs": []
    },
    {
      "cell_type": "code",
      "source": [
        "#check df\n",
        "\n",
        "df"
      ],
      "metadata": {
        "id": "FY8g3AjOPTe5"
      },
      "execution_count": null,
      "outputs": []
    },
    {
      "cell_type": "code",
      "source": [
        "#dropping all irrelevant columns (only kept the necessary ones)\n",
        "\n",
        "df = df.drop([\"State Code\", \"County Code\", \"Parameter Code\", \"POC\", \"Datum\",\n",
        "              \"Site Num\", \"MDL\", \"Uncertainty\", \"Qualifier\", \"Method Type\",\n",
        "              \"Method Code\", \"Method Name\", \"Date of Last Change\",\n",
        "              \"Parameter Name\", \"Units of Measure\", \"State Name\", \"County Name\",\n",
        "              \"Date GMT\", \"Time GMT\"], axis = 'columns')"
      ],
      "metadata": {
        "id": "SQXRq20AcGbc"
      },
      "execution_count": null,
      "outputs": []
    },
    {
      "cell_type": "code",
      "source": [
        "#checking drop\n",
        "\n",
        "df"
      ],
      "metadata": {
        "id": "aUClFTim0cgB",
        "colab": {
          "base_uri": "https://localhost:8080/",
          "height": 423
        },
        "outputId": "0519a59c-74a2-412d-e137-573f38e5c26c"
      },
      "execution_count": null,
      "outputs": [
        {
          "output_type": "execute_result",
          "data": {
            "text/plain": [
              "      Latitude  Longitude Date Local Time Local  Sample Measurement\n",
              "0    33.553056    -86.815   1/1/2021       0:00                 0.2\n",
              "1    33.553056    -86.815   1/1/2021       1:00                 0.1\n",
              "2    33.553056    -86.815   1/1/2021       2:00                 0.1\n",
              "3    33.553056    -86.815   1/1/2021       3:00                 0.1\n",
              "4    33.553056    -86.815   1/1/2021       4:00                 0.1\n",
              "..         ...        ...        ...        ...                 ...\n",
              "194  33.553056    -86.815   1/9/2021      11:00                 0.2\n",
              "195  33.553056    -86.815   1/9/2021      12:00                 0.2\n",
              "196  33.553056    -86.815   1/9/2021      13:00                 0.2\n",
              "197  33.553056    -86.815   1/9/2021      14:00                 0.2\n",
              "198  33.553056    -86.815   1/9/2021      15:00                 0.2\n",
              "\n",
              "[199 rows x 5 columns]"
            ],
            "text/html": [
              "\n",
              "  <div id=\"df-93e0f872-21be-4df4-8095-b70e2e6e2bef\" class=\"colab-df-container\">\n",
              "    <div>\n",
              "<style scoped>\n",
              "    .dataframe tbody tr th:only-of-type {\n",
              "        vertical-align: middle;\n",
              "    }\n",
              "\n",
              "    .dataframe tbody tr th {\n",
              "        vertical-align: top;\n",
              "    }\n",
              "\n",
              "    .dataframe thead th {\n",
              "        text-align: right;\n",
              "    }\n",
              "</style>\n",
              "<table border=\"1\" class=\"dataframe\">\n",
              "  <thead>\n",
              "    <tr style=\"text-align: right;\">\n",
              "      <th></th>\n",
              "      <th>Latitude</th>\n",
              "      <th>Longitude</th>\n",
              "      <th>Date Local</th>\n",
              "      <th>Time Local</th>\n",
              "      <th>Sample Measurement</th>\n",
              "    </tr>\n",
              "  </thead>\n",
              "  <tbody>\n",
              "    <tr>\n",
              "      <th>0</th>\n",
              "      <td>33.553056</td>\n",
              "      <td>-86.815</td>\n",
              "      <td>1/1/2021</td>\n",
              "      <td>0:00</td>\n",
              "      <td>0.2</td>\n",
              "    </tr>\n",
              "    <tr>\n",
              "      <th>1</th>\n",
              "      <td>33.553056</td>\n",
              "      <td>-86.815</td>\n",
              "      <td>1/1/2021</td>\n",
              "      <td>1:00</td>\n",
              "      <td>0.1</td>\n",
              "    </tr>\n",
              "    <tr>\n",
              "      <th>2</th>\n",
              "      <td>33.553056</td>\n",
              "      <td>-86.815</td>\n",
              "      <td>1/1/2021</td>\n",
              "      <td>2:00</td>\n",
              "      <td>0.1</td>\n",
              "    </tr>\n",
              "    <tr>\n",
              "      <th>3</th>\n",
              "      <td>33.553056</td>\n",
              "      <td>-86.815</td>\n",
              "      <td>1/1/2021</td>\n",
              "      <td>3:00</td>\n",
              "      <td>0.1</td>\n",
              "    </tr>\n",
              "    <tr>\n",
              "      <th>4</th>\n",
              "      <td>33.553056</td>\n",
              "      <td>-86.815</td>\n",
              "      <td>1/1/2021</td>\n",
              "      <td>4:00</td>\n",
              "      <td>0.1</td>\n",
              "    </tr>\n",
              "    <tr>\n",
              "      <th>...</th>\n",
              "      <td>...</td>\n",
              "      <td>...</td>\n",
              "      <td>...</td>\n",
              "      <td>...</td>\n",
              "      <td>...</td>\n",
              "    </tr>\n",
              "    <tr>\n",
              "      <th>194</th>\n",
              "      <td>33.553056</td>\n",
              "      <td>-86.815</td>\n",
              "      <td>1/9/2021</td>\n",
              "      <td>11:00</td>\n",
              "      <td>0.2</td>\n",
              "    </tr>\n",
              "    <tr>\n",
              "      <th>195</th>\n",
              "      <td>33.553056</td>\n",
              "      <td>-86.815</td>\n",
              "      <td>1/9/2021</td>\n",
              "      <td>12:00</td>\n",
              "      <td>0.2</td>\n",
              "    </tr>\n",
              "    <tr>\n",
              "      <th>196</th>\n",
              "      <td>33.553056</td>\n",
              "      <td>-86.815</td>\n",
              "      <td>1/9/2021</td>\n",
              "      <td>13:00</td>\n",
              "      <td>0.2</td>\n",
              "    </tr>\n",
              "    <tr>\n",
              "      <th>197</th>\n",
              "      <td>33.553056</td>\n",
              "      <td>-86.815</td>\n",
              "      <td>1/9/2021</td>\n",
              "      <td>14:00</td>\n",
              "      <td>0.2</td>\n",
              "    </tr>\n",
              "    <tr>\n",
              "      <th>198</th>\n",
              "      <td>33.553056</td>\n",
              "      <td>-86.815</td>\n",
              "      <td>1/9/2021</td>\n",
              "      <td>15:00</td>\n",
              "      <td>0.2</td>\n",
              "    </tr>\n",
              "  </tbody>\n",
              "</table>\n",
              "<p>199 rows × 5 columns</p>\n",
              "</div>\n",
              "    <div class=\"colab-df-buttons\">\n",
              "\n",
              "  <div class=\"colab-df-container\">\n",
              "    <button class=\"colab-df-convert\" onclick=\"convertToInteractive('df-93e0f872-21be-4df4-8095-b70e2e6e2bef')\"\n",
              "            title=\"Convert this dataframe to an interactive table.\"\n",
              "            style=\"display:none;\">\n",
              "\n",
              "  <svg xmlns=\"http://www.w3.org/2000/svg\" height=\"24px\" viewBox=\"0 -960 960 960\">\n",
              "    <path d=\"M120-120v-720h720v720H120Zm60-500h600v-160H180v160Zm220 220h160v-160H400v160Zm0 220h160v-160H400v160ZM180-400h160v-160H180v160Zm440 0h160v-160H620v160ZM180-180h160v-160H180v160Zm440 0h160v-160H620v160Z\"/>\n",
              "  </svg>\n",
              "    </button>\n",
              "\n",
              "  <style>\n",
              "    .colab-df-container {\n",
              "      display:flex;\n",
              "      gap: 12px;\n",
              "    }\n",
              "\n",
              "    .colab-df-convert {\n",
              "      background-color: #E8F0FE;\n",
              "      border: none;\n",
              "      border-radius: 50%;\n",
              "      cursor: pointer;\n",
              "      display: none;\n",
              "      fill: #1967D2;\n",
              "      height: 32px;\n",
              "      padding: 0 0 0 0;\n",
              "      width: 32px;\n",
              "    }\n",
              "\n",
              "    .colab-df-convert:hover {\n",
              "      background-color: #E2EBFA;\n",
              "      box-shadow: 0px 1px 2px rgba(60, 64, 67, 0.3), 0px 1px 3px 1px rgba(60, 64, 67, 0.15);\n",
              "      fill: #174EA6;\n",
              "    }\n",
              "\n",
              "    .colab-df-buttons div {\n",
              "      margin-bottom: 4px;\n",
              "    }\n",
              "\n",
              "    [theme=dark] .colab-df-convert {\n",
              "      background-color: #3B4455;\n",
              "      fill: #D2E3FC;\n",
              "    }\n",
              "\n",
              "    [theme=dark] .colab-df-convert:hover {\n",
              "      background-color: #434B5C;\n",
              "      box-shadow: 0px 1px 3px 1px rgba(0, 0, 0, 0.15);\n",
              "      filter: drop-shadow(0px 1px 2px rgba(0, 0, 0, 0.3));\n",
              "      fill: #FFFFFF;\n",
              "    }\n",
              "  </style>\n",
              "\n",
              "    <script>\n",
              "      const buttonEl =\n",
              "        document.querySelector('#df-93e0f872-21be-4df4-8095-b70e2e6e2bef button.colab-df-convert');\n",
              "      buttonEl.style.display =\n",
              "        google.colab.kernel.accessAllowed ? 'block' : 'none';\n",
              "\n",
              "      async function convertToInteractive(key) {\n",
              "        const element = document.querySelector('#df-93e0f872-21be-4df4-8095-b70e2e6e2bef');\n",
              "        const dataTable =\n",
              "          await google.colab.kernel.invokeFunction('convertToInteractive',\n",
              "                                                    [key], {});\n",
              "        if (!dataTable) return;\n",
              "\n",
              "        const docLinkHtml = 'Like what you see? Visit the ' +\n",
              "          '<a target=\"_blank\" href=https://colab.research.google.com/notebooks/data_table.ipynb>data table notebook</a>'\n",
              "          + ' to learn more about interactive tables.';\n",
              "        element.innerHTML = '';\n",
              "        dataTable['output_type'] = 'display_data';\n",
              "        await google.colab.output.renderOutput(dataTable, element);\n",
              "        const docLink = document.createElement('div');\n",
              "        docLink.innerHTML = docLinkHtml;\n",
              "        element.appendChild(docLink);\n",
              "      }\n",
              "    </script>\n",
              "  </div>\n",
              "\n",
              "\n",
              "<div id=\"df-17cfac03-65f1-445e-a2ea-b74b0a39f047\">\n",
              "  <button class=\"colab-df-quickchart\" onclick=\"quickchart('df-17cfac03-65f1-445e-a2ea-b74b0a39f047')\"\n",
              "            title=\"Suggest charts.\"\n",
              "            style=\"display:none;\">\n",
              "\n",
              "<svg xmlns=\"http://www.w3.org/2000/svg\" height=\"24px\"viewBox=\"0 0 24 24\"\n",
              "     width=\"24px\">\n",
              "    <g>\n",
              "        <path d=\"M19 3H5c-1.1 0-2 .9-2 2v14c0 1.1.9 2 2 2h14c1.1 0 2-.9 2-2V5c0-1.1-.9-2-2-2zM9 17H7v-7h2v7zm4 0h-2V7h2v10zm4 0h-2v-4h2v4z\"/>\n",
              "    </g>\n",
              "</svg>\n",
              "  </button>\n",
              "\n",
              "<style>\n",
              "  .colab-df-quickchart {\n",
              "      --bg-color: #E8F0FE;\n",
              "      --fill-color: #1967D2;\n",
              "      --hover-bg-color: #E2EBFA;\n",
              "      --hover-fill-color: #174EA6;\n",
              "      --disabled-fill-color: #AAA;\n",
              "      --disabled-bg-color: #DDD;\n",
              "  }\n",
              "\n",
              "  [theme=dark] .colab-df-quickchart {\n",
              "      --bg-color: #3B4455;\n",
              "      --fill-color: #D2E3FC;\n",
              "      --hover-bg-color: #434B5C;\n",
              "      --hover-fill-color: #FFFFFF;\n",
              "      --disabled-bg-color: #3B4455;\n",
              "      --disabled-fill-color: #666;\n",
              "  }\n",
              "\n",
              "  .colab-df-quickchart {\n",
              "    background-color: var(--bg-color);\n",
              "    border: none;\n",
              "    border-radius: 50%;\n",
              "    cursor: pointer;\n",
              "    display: none;\n",
              "    fill: var(--fill-color);\n",
              "    height: 32px;\n",
              "    padding: 0;\n",
              "    width: 32px;\n",
              "  }\n",
              "\n",
              "  .colab-df-quickchart:hover {\n",
              "    background-color: var(--hover-bg-color);\n",
              "    box-shadow: 0 1px 2px rgba(60, 64, 67, 0.3), 0 1px 3px 1px rgba(60, 64, 67, 0.15);\n",
              "    fill: var(--button-hover-fill-color);\n",
              "  }\n",
              "\n",
              "  .colab-df-quickchart-complete:disabled,\n",
              "  .colab-df-quickchart-complete:disabled:hover {\n",
              "    background-color: var(--disabled-bg-color);\n",
              "    fill: var(--disabled-fill-color);\n",
              "    box-shadow: none;\n",
              "  }\n",
              "\n",
              "  .colab-df-spinner {\n",
              "    border: 2px solid var(--fill-color);\n",
              "    border-color: transparent;\n",
              "    border-bottom-color: var(--fill-color);\n",
              "    animation:\n",
              "      spin 1s steps(1) infinite;\n",
              "  }\n",
              "\n",
              "  @keyframes spin {\n",
              "    0% {\n",
              "      border-color: transparent;\n",
              "      border-bottom-color: var(--fill-color);\n",
              "      border-left-color: var(--fill-color);\n",
              "    }\n",
              "    20% {\n",
              "      border-color: transparent;\n",
              "      border-left-color: var(--fill-color);\n",
              "      border-top-color: var(--fill-color);\n",
              "    }\n",
              "    30% {\n",
              "      border-color: transparent;\n",
              "      border-left-color: var(--fill-color);\n",
              "      border-top-color: var(--fill-color);\n",
              "      border-right-color: var(--fill-color);\n",
              "    }\n",
              "    40% {\n",
              "      border-color: transparent;\n",
              "      border-right-color: var(--fill-color);\n",
              "      border-top-color: var(--fill-color);\n",
              "    }\n",
              "    60% {\n",
              "      border-color: transparent;\n",
              "      border-right-color: var(--fill-color);\n",
              "    }\n",
              "    80% {\n",
              "      border-color: transparent;\n",
              "      border-right-color: var(--fill-color);\n",
              "      border-bottom-color: var(--fill-color);\n",
              "    }\n",
              "    90% {\n",
              "      border-color: transparent;\n",
              "      border-bottom-color: var(--fill-color);\n",
              "    }\n",
              "  }\n",
              "</style>\n",
              "\n",
              "  <script>\n",
              "    async function quickchart(key) {\n",
              "      const quickchartButtonEl =\n",
              "        document.querySelector('#' + key + ' button');\n",
              "      quickchartButtonEl.disabled = true;  // To prevent multiple clicks.\n",
              "      quickchartButtonEl.classList.add('colab-df-spinner');\n",
              "      try {\n",
              "        const charts = await google.colab.kernel.invokeFunction(\n",
              "            'suggestCharts', [key], {});\n",
              "      } catch (error) {\n",
              "        console.error('Error during call to suggestCharts:', error);\n",
              "      }\n",
              "      quickchartButtonEl.classList.remove('colab-df-spinner');\n",
              "      quickchartButtonEl.classList.add('colab-df-quickchart-complete');\n",
              "    }\n",
              "    (() => {\n",
              "      let quickchartButtonEl =\n",
              "        document.querySelector('#df-17cfac03-65f1-445e-a2ea-b74b0a39f047 button');\n",
              "      quickchartButtonEl.style.display =\n",
              "        google.colab.kernel.accessAllowed ? 'block' : 'none';\n",
              "    })();\n",
              "  </script>\n",
              "</div>\n",
              "    </div>\n",
              "  </div>\n"
            ]
          },
          "metadata": {},
          "execution_count": 7
        }
      ]
    },
    {
      "cell_type": "code",
      "source": [
        "df[\"Longitude\"].shape[0]\n",
        "df[\"Latitude\"].shape[0]"
      ],
      "metadata": {
        "colab": {
          "base_uri": "https://localhost:8080/"
        },
        "id": "blYExMGy4jwz",
        "outputId": "d3847210-7f77-4e85-81c8-7caf6a6a7360"
      },
      "execution_count": null,
      "outputs": [
        {
          "output_type": "execute_result",
          "data": {
            "text/plain": [
              "199"
            ]
          },
          "metadata": {},
          "execution_count": 8
        }
      ]
    },
    {
      "cell_type": "code",
      "source": [
        "# Use `%matplotlib inline` to display the map directly in Colab\n",
        "%matplotlib inline\n",
        "\n",
        "# Create a figure and axis with PlateCarree projection\n",
        "fig, ax = plt.subplots(subplot_kw={'projection': ccrs.PlateCarree()})\n",
        "\n",
        "# Customizing map with coastlines and gridlines\n",
        "ax.coastlines(resolution='10m', color='black', linewidth=1)  # Add coastlines\n",
        "ax.gridlines(draw_labels=True, dms=True, x_inline=False, y_inline=False)\n",
        "\n",
        "#Zooming out of map for better view of US\n",
        "ax.set_extent([df[\"Longitude\"][0] - 50, df[\"Longitude\"][0] + 50, df[\"Latitude\"][0] - 25, df[\"Latitude\"][0] + 25])\n",
        "\n",
        "#plotting all coordinates from dataset onto same map\n",
        "for value in range(df[\"Longitude\"].shape[0]):\n",
        "  plot_lon = df[\"Longitude\"][value]\n",
        "  plot_lat = df[\"Latitude\"][value]\n",
        "  ax.plot(plot_lon, plot_lat, 'ro', markersize=6, transform=ccrs.PlateCarree())\n",
        "\n",
        "plt.show()\n",
        "#all coordinates concentrated to same point, b/c only small portion of data is being used"
      ],
      "metadata": {
        "colab": {
          "base_uri": "https://localhost:8080/",
          "height": 430
        },
        "id": "iTxXRL284Ar8",
        "outputId": "2762954d-4e65-46f7-c217-f77b8a815e97"
      },
      "execution_count": null,
      "outputs": [
        {
          "output_type": "stream",
          "name": "stderr",
          "text": [
            "/usr/local/lib/python3.10/dist-packages/cartopy/io/__init__.py:241: DownloadWarning: Downloading: https://naturalearth.s3.amazonaws.com/10m_physical/ne_10m_coastline.zip\n",
            "  warnings.warn(f'Downloading: {url}', DownloadWarning)\n"
          ]
        },
        {
          "output_type": "display_data",
          "data": {
            "text/plain": [
              "<Figure size 640x480 with 1 Axes>"
            ],
            "image/png": "[encoded data removed]"
          },
          "metadata": {}
        }
      ]
    },
    {
      "cell_type": "code",
      "source": [
        "#Creating scatter plot of sample measurements across portion of dataset utilized\n",
        "#**Check with team for better approach to visualize this**\n",
        "\n",
        "plt.scatter(range(df[\"Sample Measurement\"].shape[0]), (df[\"Sample Measurement\"]), marker='o', color='blue', label='Data Points')\n",
        "plt.plot(range(df[\"Sample Measurement\"].shape[0]), (df[\"Sample Measurement\"]), linestyle='-', color='red', label='Connected Line')\n",
        "\n",
        "# Add labels and a legend\n",
        "plt.xlabel('Day #')\n",
        "plt.ylabel('Recorded Measurement')\n",
        "plt.title('Recorded Measurements across dataset')\n",
        "plt.legend()\n",
        "\n",
        "plt.show()"
      ],
      "metadata": {
        "colab": {
          "base_uri": "https://localhost:8080/",
          "height": 472
        },
        "id": "hnIqVGy-60iu",
        "outputId": "9defcd1d-a34e-44f9-ed17-2aaf35296261"
      },
      "execution_count": null,
      "outputs": [
        {
          "output_type": "display_data",
          "data": {
            "text/plain": [
              "<Figure size 640x480 with 1 Axes>"
            ],
            "image/png": "[encoded data removed]"
          },
          "metadata": {}
        }
      ]
    },
    {
      "cell_type": "code",
      "source": [
        "# Example data (replace this with your AQI data and coordinates)\n",
        "lats = np.linspace(30, 45, 50)\n",
        "lons = np.linspace(-120, -70, 75)\n",
        "aqi_data = np.random.rand(len(lats), len(lons)) * 100  # Example AQI values (0-100)\n",
        "\n",
        "# Create a figure and axis with a PlateCarree projection\n",
        "fig, ax = plt.subplots(subplot_kw={'projection': ccrs.PlateCarree()})\n",
        "ax.set_extent([df[\"Longitude\"][0] - 50, df[\"Longitude\"][0] + 50, df[\"Latitude\"][0] - 25, df[\"Latitude\"][0] + 25])\n",
        "\n",
        "# Create contour levels (adjust as needed)\n",
        "levels = np.linspace(0, 100, 11)  # Contour levels from 0 to 100\n",
        "\n",
        "# Create a contour plot with a colormap (e.g., 'Reds' for red)\n",
        "contour = ax.contourf(lons, lats, aqi_data, levels=levels, cmap='Reds', transform=ccrs.PlateCarree())\n",
        "\n",
        "# Add coastlines for reference\n",
        "ax.coastlines()\n",
        "\n",
        "# Add a colorbar\n",
        "cbar = plt.colorbar(contour, ax=ax, orientation='vertical', label='AQI')\n",
        "\n",
        "# Set titles and labels\n",
        "ax.set_title('Air Quality Index Contour Map')\n",
        "ax.set_xlabel('Longitude')\n",
        "ax.set_ylabel('Latitude')\n",
        "\n",
        "# Show the plot\n",
        "plt.show()"
      ],
      "metadata": {
        "colab": {
          "base_uri": "https://localhost:8080/",
          "height": 420
        },
        "id": "93v-PNAcNsC2",
        "outputId": "1c1a8d08-7d51-483a-c621-6017fc906867"
      },
      "execution_count": null,
      "outputs": [
        {
          "output_type": "display_data",
          "data": {
            "text/plain": [
              "<Figure size 640x480 with 2 Axes>"
            ],
            "image/png": "[encoded data removed]"
          },
          "metadata": {}
        }
      ]
    },
    {
      "cell_type": "code",
      "source": [
        "#First function converts date into day of year, and then normalizes it to scale of 0 to 1\n",
        "#Second function converts time of day, into hour of day, and then normalizes it to scale of 0 to 1\n",
        "\n",
        "def adjust_date(arr):\n",
        "  adjusted_date_local = []\n",
        "\n",
        "  for date in arr:\n",
        "    temp = date.split(\"/\")\n",
        "    curr = temp[2] + \"-\" + temp[0] + \"-\"  + temp[1]\n",
        "    period = pd.Period(curr)\n",
        "    adjusted_date_local.append(int(period.day_of_year)/365)\n",
        "\n",
        "  return adjusted_date_local\n",
        "\n",
        "def adjust_time(arr):\n",
        "  adjusted_time_local = []\n",
        "\n",
        "  for time in arr:\n",
        "    strTime = time.replace(\":\", \".\")\n",
        "    adjusted_time_local.append(float(strTime)/24)\n",
        "\n",
        "  return adjusted_time_local"
      ],
      "metadata": {
        "id": "sqdFD_QcYcD-"
      },
      "execution_count": null,
      "outputs": []
    },
    {
      "cell_type": "code",
      "source": [
        "#Creating the new adjusted columns by applying the functions to existing values\n",
        "#Deleting old non-formatted columns\n",
        "\n",
        "df[\"Date Local (adjusted)\"] = adjust_date(df[\"Date Local\"])\n",
        "df[\"Time Local (adjusted)\"] = adjust_time(df[\"Time Local\"])\n",
        "\n",
        "df = df.drop([\"Date Local\", \"Time Local\"], axis = 'columns')"
      ],
      "metadata": {
        "id": "1XpOaKTBMod-"
      },
      "execution_count": null,
      "outputs": []
    },
    {
      "cell_type": "code",
      "source": [
        "#function that normalizes the longitude and latitude to a scale of 0 to 1\n",
        "\n",
        "def adjust_long_lat(arr):\n",
        "  adjusted_long_lat = []\n",
        "\n",
        "  for pos in arr:\n",
        "    adjusted_long_lat.append(float(pos)/180)\n",
        "\n",
        "  return adjusted_long_lat"
      ],
      "metadata": {
        "id": "5Dm-yhquck2P"
      },
      "execution_count": null,
      "outputs": []
    },
    {
      "cell_type": "code",
      "source": [
        "#Once again adding the new adjusted columns and deleting old non-formatted columns\n",
        "\n",
        "df[\"Latitude (adjusted)\"] = adjust_long_lat(df[\"Latitude\"])\n",
        "df[\"Longitude (adjusted)\"] = adjust_long_lat(df[\"Longitude\"])\n",
        "\n",
        "df = df.drop([\"Latitude\", \"Longitude\"], axis = 'columns')"
      ],
      "metadata": {
        "id": "JDBK06HUdEl3"
      },
      "execution_count": null,
      "outputs": []
    },
    {
      "cell_type": "code",
      "source": [
        "def new_sin(arr):\n",
        "  sin_ans = []\n",
        "\n",
        "  for input in arr:\n",
        "    sin_ans.append(math.sin(input))\n",
        "\n",
        "  return sin_ans\n",
        "\n",
        "def new_cos(arr):\n",
        "  cos_ans = []\n",
        "\n",
        "  for input in arr:\n",
        "    cos_ans.append(math.cos(input))\n",
        "\n",
        "  return cos_ans"
      ],
      "metadata": {
        "id": "dVw_ySsdV0nG"
      },
      "execution_count": null,
      "outputs": []
    },
    {
      "cell_type": "code",
      "source": [
        "df[\"sin(day of year)\"] = new_sin(df[\"Date Local (adjusted)\"])\n",
        "df[\"cos(day of year)\"] = new_cos(df[\"Date Local (adjusted)\"])\n",
        "df[\"sin(time of day)\"] = new_sin(df[\"Time Local (adjusted)\"])\n",
        "df[\"cos(time of day)\"] = new_cos(df[\"Time Local (adjusted)\"])"
      ],
      "metadata": {
        "id": "YVmyq4N5XGQW"
      },
      "execution_count": null,
      "outputs": []
    },
    {
      "cell_type": "code",
      "source": [
        "#checking new edits to df\n",
        "\n",
        "df"
      ],
      "metadata": {
        "id": "ske8trdZdf_X",
        "colab": {
          "base_uri": "https://localhost:8080/",
          "height": 441
        },
        "outputId": "09be172a-6e0e-475a-cb12-83d1d622e8ed"
      },
      "execution_count": null,
      "outputs": [
        {
          "output_type": "execute_result",
          "data": {
            "text/plain": [
              "     Sample Measurement  Date Local (adjusted)  Time Local (adjusted)  \\\n",
              "0                   0.2               0.002740               0.000000   \n",
              "1                   0.1               0.002740               0.041667   \n",
              "2                   0.1               0.002740               0.083333   \n",
              "3                   0.1               0.002740               0.125000   \n",
              "4                   0.1               0.002740               0.166667   \n",
              "..                  ...                    ...                    ...   \n",
              "194                 0.2               0.024658               0.458333   \n",
              "195                 0.2               0.024658               0.500000   \n",
              "196                 0.2               0.024658               0.541667   \n",
              "197                 0.2               0.024658               0.583333   \n",
              "198                 0.2               0.024658               0.625000   \n",
              "\n",
              "     Latitude (adjusted)  Longitude (adjusted)  sin(day of year)  \\\n",
              "0               0.186406             -0.482306          0.002740   \n",
              "1               0.186406             -0.482306          0.002740   \n",
              "2               0.186406             -0.482306          0.002740   \n",
              "3               0.186406             -0.482306          0.002740   \n",
              "4               0.186406             -0.482306          0.002740   \n",
              "..                   ...                   ...               ...   \n",
              "194             0.186406             -0.482306          0.024655   \n",
              "195             0.186406             -0.482306          0.024655   \n",
              "196             0.186406             -0.482306          0.024655   \n",
              "197             0.186406             -0.482306          0.024655   \n",
              "198             0.186406             -0.482306          0.024655   \n",
              "\n",
              "     cos(day of year)  sin(time of day)  cos(time of day)  \n",
              "0            0.999996          0.000000          1.000000  \n",
              "1            0.999996          0.041655          0.999132  \n",
              "2            0.999996          0.083237          0.996530  \n",
              "3            0.999996          0.124675          0.992198  \n",
              "4            0.999996          0.165896          0.986143  \n",
              "..                ...               ...               ...  \n",
              "194          0.999696          0.442454          0.896791  \n",
              "195          0.999696          0.479426          0.877583  \n",
              "196          0.999696          0.515565          0.856851  \n",
              "197          0.999696          0.550809          0.834631  \n",
              "198          0.999696          0.585097          0.810963  \n",
              "\n",
              "[199 rows x 9 columns]"
            ],
            "text/html": [
              "\n",
              "  <div id=\"df-64415bcf-4656-41d8-b563-5a00860e7ad0\" class=\"colab-df-container\">\n",
              "    <div>\n",
              "<style scoped>\n",
              "    .dataframe tbody tr th:only-of-type {\n",
              "        vertical-align: middle;\n",
              "    }\n",
              "\n",
              "    .dataframe tbody tr th {\n",
              "        vertical-align: top;\n",
              "    }\n",
              "\n",
              "    .dataframe thead th {\n",
              "        text-align: right;\n",
              "    }\n",
              "</style>\n",
              "<table border=\"1\" class=\"dataframe\">\n",
              "  <thead>\n",
              "    <tr style=\"text-align: right;\">\n",
              "      <th></th>\n",
              "      <th>Sample Measurement</th>\n",
              "      <th>Date Local (adjusted)</th>\n",
              "      <th>Time Local (adjusted)</th>\n",
              "      <th>Latitude (adjusted)</th>\n",
              "      <th>Longitude (adjusted)</th>\n",
              "      <th>sin(day of year)</th>\n",
              "      <th>cos(day of year)</th>\n",
              "      <th>sin(time of day)</th>\n",
              "      <th>cos(time of day)</th>\n",
              "    </tr>\n",
              "  </thead>\n",
              "  <tbody>\n",
              "    <tr>\n",
              "      <th>0</th>\n",
              "      <td>0.2</td>\n",
              "      <td>0.002740</td>\n",
              "      <td>0.000000</td>\n",
              "      <td>0.186406</td>\n",
              "      <td>-0.482306</td>\n",
              "      <td>0.002740</td>\n",
              "      <td>0.999996</td>\n",
              "      <td>0.000000</td>\n",
              "      <td>1.000000</td>\n",
              "    </tr>\n",
              "    <tr>\n",
              "      <th>1</th>\n",
              "      <td>0.1</td>\n",
              "      <td>0.002740</td>\n",
              "      <td>0.041667</td>\n",
              "      <td>0.186406</td>\n",
              "      <td>-0.482306</td>\n",
              "      <td>0.002740</td>\n",
              "      <td>0.999996</td>\n",
              "      <td>0.041655</td>\n",
              "      <td>0.999132</td>\n",
              "    </tr>\n",
              "    <tr>\n",
              "      <th>2</th>\n",
              "      <td>0.1</td>\n",
              "      <td>0.002740</td>\n",
              "      <td>0.083333</td>\n",
              "      <td>0.186406</td>\n",
              "      <td>-0.482306</td>\n",
              "      <td>0.002740</td>\n",
              "      <td>0.999996</td>\n",
              "      <td>0.083237</td>\n",
              "      <td>0.996530</td>\n",
              "    </tr>\n",
              "    <tr>\n",
              "      <th>3</th>\n",
              "      <td>0.1</td>\n",
              "      <td>0.002740</td>\n",
              "      <td>0.125000</td>\n",
              "      <td>0.186406</td>\n",
              "      <td>-0.482306</td>\n",
              "      <td>0.002740</td>\n",
              "      <td>0.999996</td>\n",
              "      <td>0.124675</td>\n",
              "      <td>0.992198</td>\n",
              "    </tr>\n",
              "    <tr>\n",
              "      <th>4</th>\n",
              "      <td>0.1</td>\n",
              "      <td>0.002740</td>\n",
              "      <td>0.166667</td>\n",
              "      <td>0.186406</td>\n",
              "      <td>-0.482306</td>\n",
              "      <td>0.002740</td>\n",
              "      <td>0.999996</td>\n",
              "      <td>0.165896</td>\n",
              "      <td>0.986143</td>\n",
              "    </tr>\n",
              "    <tr>\n",
              "      <th>...</th>\n",
              "      <td>...</td>\n",
              "      <td>...</td>\n",
              "      <td>...</td>\n",
              "      <td>...</td>\n",
              "      <td>...</td>\n",
              "      <td>...</td>\n",
              "      <td>...</td>\n",
              "      <td>...</td>\n",
              "      <td>...</td>\n",
              "    </tr>\n",
              "    <tr>\n",
              "      <th>194</th>\n",
              "      <td>0.2</td>\n",
              "      <td>0.024658</td>\n",
              "      <td>0.458333</td>\n",
              "      <td>0.186406</td>\n",
              "      <td>-0.482306</td>\n",
              "      <td>0.024655</td>\n",
              "      <td>0.999696</td>\n",
              "      <td>0.442454</td>\n",
              "      <td>0.896791</td>\n",
              "    </tr>\n",
              "    <tr>\n",
              "      <th>195</th>\n",
              "      <td>0.2</td>\n",
              "      <td>0.024658</td>\n",
              "      <td>0.500000</td>\n",
              "      <td>0.186406</td>\n",
              "      <td>-0.482306</td>\n",
              "      <td>0.024655</td>\n",
              "      <td>0.999696</td>\n",
              "      <td>0.479426</td>\n",
              "      <td>0.877583</td>\n",
              "    </tr>\n",
              "    <tr>\n",
              "      <th>196</th>\n",
              "      <td>0.2</td>\n",
              "      <td>0.024658</td>\n",
              "      <td>0.541667</td>\n",
              "      <td>0.186406</td>\n",
              "      <td>-0.482306</td>\n",
              "      <td>0.024655</td>\n",
              "      <td>0.999696</td>\n",
              "      <td>0.515565</td>\n",
              "      <td>0.856851</td>\n",
              "    </tr>\n",
              "    <tr>\n",
              "      <th>197</th>\n",
              "      <td>0.2</td>\n",
              "      <td>0.024658</td>\n",
              "      <td>0.583333</td>\n",
              "      <td>0.186406</td>\n",
              "      <td>-0.482306</td>\n",
              "      <td>0.024655</td>\n",
              "      <td>0.999696</td>\n",
              "      <td>0.550809</td>\n",
              "      <td>0.834631</td>\n",
              "    </tr>\n",
              "    <tr>\n",
              "      <th>198</th>\n",
              "      <td>0.2</td>\n",
              "      <td>0.024658</td>\n",
              "      <td>0.625000</td>\n",
              "      <td>0.186406</td>\n",
              "      <td>-0.482306</td>\n",
              "      <td>0.024655</td>\n",
              "      <td>0.999696</td>\n",
              "      <td>0.585097</td>\n",
              "      <td>0.810963</td>\n",
              "    </tr>\n",
              "  </tbody>\n",
              "</table>\n",
              "<p>199 rows × 9 columns</p>\n",
              "</div>\n",
              "    <div class=\"colab-df-buttons\">\n",
              "\n",
              "  <div class=\"colab-df-container\">\n",
              "    <button class=\"colab-df-convert\" onclick=\"convertToInteractive('df-64415bcf-4656-41d8-b563-5a00860e7ad0')\"\n",
              "            title=\"Convert this dataframe to an interactive table.\"\n",
              "            style=\"display:none;\">\n",
              "\n",
              "  <svg xmlns=\"http://www.w3.org/2000/svg\" height=\"24px\" viewBox=\"0 -960 960 960\">\n",
              "    <path d=\"M120-120v-720h720v720H120Zm60-500h600v-160H180v160Zm220 220h160v-160H400v160Zm0 220h160v-160H400v160ZM180-400h160v-160H180v160Zm440 0h160v-160H620v160ZM180-180h160v-160H180v160Zm440 0h160v-160H620v160Z\"/>\n",
              "  </svg>\n",
              "    </button>\n",
              "\n",
              "  <style>\n",
              "    .colab-df-container {\n",
              "      display:flex;\n",
              "      gap: 12px;\n",
              "    }\n",
              "\n",
              "    .colab-df-convert {\n",
              "      background-color: #E8F0FE;\n",
              "      border: none;\n",
              "      border-radius: 50%;\n",
              "      cursor: pointer;\n",
              "      display: none;\n",
              "      fill: #1967D2;\n",
              "      height: 32px;\n",
              "      padding: 0 0 0 0;\n",
              "      width: 32px;\n",
              "    }\n",
              "\n",
              "    .colab-df-convert:hover {\n",
              "      background-color: #E2EBFA;\n",
              "      box-shadow: 0px 1px 2px rgba(60, 64, 67, 0.3), 0px 1px 3px 1px rgba(60, 64, 67, 0.15);\n",
              "      fill: #174EA6;\n",
              "    }\n",
              "\n",
              "    .colab-df-buttons div {\n",
              "      margin-bottom: 4px;\n",
              "    }\n",
              "\n",
              "    [theme=dark] .colab-df-convert {\n",
              "      background-color: #3B4455;\n",
              "      fill: #D2E3FC;\n",
              "    }\n",
              "\n",
              "    [theme=dark] .colab-df-convert:hover {\n",
              "      background-color: #434B5C;\n",
              "      box-shadow: 0px 1px 3px 1px rgba(0, 0, 0, 0.15);\n",
              "      filter: drop-shadow(0px 1px 2px rgba(0, 0, 0, 0.3));\n",
              "      fill: #FFFFFF;\n",
              "    }\n",
              "  </style>\n",
              "\n",
              "    <script>\n",
              "      const buttonEl =\n",
              "        document.querySelector('#df-64415bcf-4656-41d8-b563-5a00860e7ad0 button.colab-df-convert');\n",
              "      buttonEl.style.display =\n",
              "        google.colab.kernel.accessAllowed ? 'block' : 'none';\n",
              "\n",
              "      async function convertToInteractive(key) {\n",
              "        const element = document.querySelector('#df-64415bcf-4656-41d8-b563-5a00860e7ad0');\n",
              "        const dataTable =\n",
              "          await google.colab.kernel.invokeFunction('convertToInteractive',\n",
              "                                                    [key], {});\n",
              "        if (!dataTable) return;\n",
              "\n",
              "        const docLinkHtml = 'Like what you see? Visit the ' +\n",
              "          '<a target=\"_blank\" href=https://colab.research.google.com/notebooks/data_table.ipynb>data table notebook</a>'\n",
              "          + ' to learn more about interactive tables.';\n",
              "        element.innerHTML = '';\n",
              "        dataTable['output_type'] = 'display_data';\n",
              "        await google.colab.output.renderOutput(dataTable, element);\n",
              "        const docLink = document.createElement('div');\n",
              "        docLink.innerHTML = docLinkHtml;\n",
              "        element.appendChild(docLink);\n",
              "      }\n",
              "    </script>\n",
              "  </div>\n",
              "\n",
              "\n",
              "<div id=\"df-4dcc9950-fcb9-445f-86a5-854dba38b586\">\n",
              "  <button class=\"colab-df-quickchart\" onclick=\"quickchart('df-4dcc9950-fcb9-445f-86a5-854dba38b586')\"\n",
              "            title=\"Suggest charts.\"\n",
              "            style=\"display:none;\">\n",
              "\n",
              "<svg xmlns=\"http://www.w3.org/2000/svg\" height=\"24px\"viewBox=\"0 0 24 24\"\n",
              "     width=\"24px\">\n",
              "    <g>\n",
              "        <path d=\"M19 3H5c-1.1 0-2 .9-2 2v14c0 1.1.9 2 2 2h14c1.1 0 2-.9 2-2V5c0-1.1-.9-2-2-2zM9 17H7v-7h2v7zm4 0h-2V7h2v10zm4 0h-2v-4h2v4z\"/>\n",
              "    </g>\n",
              "</svg>\n",
              "  </button>\n",
              "\n",
              "<style>\n",
              "  .colab-df-quickchart {\n",
              "      --bg-color: #E8F0FE;\n",
              "      --fill-color: #1967D2;\n",
              "      --hover-bg-color: #E2EBFA;\n",
              "      --hover-fill-color: #174EA6;\n",
              "      --disabled-fill-color: #AAA;\n",
              "      --disabled-bg-color: #DDD;\n",
              "  }\n",
              "\n",
              "  [theme=dark] .colab-df-quickchart {\n",
              "      --bg-color: #3B4455;\n",
              "      --fill-color: #D2E3FC;\n",
              "      --hover-bg-color: #434B5C;\n",
              "      --hover-fill-color: #FFFFFF;\n",
              "      --disabled-bg-color: #3B4455;\n",
              "      --disabled-fill-color: #666;\n",
              "  }\n",
              "\n",
              "  .colab-df-quickchart {\n",
              "    background-color: var(--bg-color);\n",
              "    border: none;\n",
              "    border-radius: 50%;\n",
              "    cursor: pointer;\n",
              "    display: none;\n",
              "    fill: var(--fill-color);\n",
              "    height: 32px;\n",
              "    padding: 0;\n",
              "    width: 32px;\n",
              "  }\n",
              "\n",
              "  .colab-df-quickchart:hover {\n",
              "    background-color: var(--hover-bg-color);\n",
              "    box-shadow: 0 1px 2px rgba(60, 64, 67, 0.3), 0 1px 3px 1px rgba(60, 64, 67, 0.15);\n",
              "    fill: var(--button-hover-fill-color);\n",
              "  }\n",
              "\n",
              "  .colab-df-quickchart-complete:disabled,\n",
              "  .colab-df-quickchart-complete:disabled:hover {\n",
              "    background-color: var(--disabled-bg-color);\n",
              "    fill: var(--disabled-fill-color);\n",
              "    box-shadow: none;\n",
              "  }\n",
              "\n",
              "  .colab-df-spinner {\n",
              "    border: 2px solid var(--fill-color);\n",
              "    border-color: transparent;\n",
              "    border-bottom-color: var(--fill-color);\n",
              "    animation:\n",
              "      spin 1s steps(1) infinite;\n",
              "  }\n",
              "\n",
              "  @keyframes spin {\n",
              "    0% {\n",
              "      border-color: transparent;\n",
              "      border-bottom-color: var(--fill-color);\n",
              "      border-left-color: var(--fill-color);\n",
              "    }\n",
              "    20% {\n",
              "      border-color: transparent;\n",
              "      border-left-color: var(--fill-color);\n",
              "      border-top-color: var(--fill-color);\n",
              "    }\n",
              "    30% {\n",
              "      border-color: transparent;\n",
              "      border-left-color: var(--fill-color);\n",
              "      border-top-color: var(--fill-color);\n",
              "      border-right-color: var(--fill-color);\n",
              "    }\n",
              "    40% {\n",
              "      border-color: transparent;\n",
              "      border-right-color: var(--fill-color);\n",
              "      border-top-color: var(--fill-color);\n",
              "    }\n",
              "    60% {\n",
              "      border-color: transparent;\n",
              "      border-right-color: var(--fill-color);\n",
              "    }\n",
              "    80% {\n",
              "      border-color: transparent;\n",
              "      border-right-color: var(--fill-color);\n",
              "      border-bottom-color: var(--fill-color);\n",
              "    }\n",
              "    90% {\n",
              "      border-color: transparent;\n",
              "      border-bottom-color: var(--fill-color);\n",
              "    }\n",
              "  }\n",
              "</style>\n",
              "\n",
              "  <script>\n",
              "    async function quickchart(key) {\n",
              "      const quickchartButtonEl =\n",
              "        document.querySelector('#' + key + ' button');\n",
              "      quickchartButtonEl.disabled = true;  // To prevent multiple clicks.\n",
              "      quickchartButtonEl.classList.add('colab-df-spinner');\n",
              "      try {\n",
              "        const charts = await google.colab.kernel.invokeFunction(\n",
              "            'suggestCharts', [key], {});\n",
              "      } catch (error) {\n",
              "        console.error('Error during call to suggestCharts:', error);\n",
              "      }\n",
              "      quickchartButtonEl.classList.remove('colab-df-spinner');\n",
              "      quickchartButtonEl.classList.add('colab-df-quickchart-complete');\n",
              "    }\n",
              "    (() => {\n",
              "      let quickchartButtonEl =\n",
              "        document.querySelector('#df-4dcc9950-fcb9-445f-86a5-854dba38b586 button');\n",
              "      quickchartButtonEl.style.display =\n",
              "        google.colab.kernel.accessAllowed ? 'block' : 'none';\n",
              "    })();\n",
              "  </script>\n",
              "</div>\n",
              "    </div>\n",
              "  </div>\n"
            ]
          },
          "metadata": {},
          "execution_count": 38
        }
      ]
    },
    {
      "cell_type": "code",
      "source": [
        "#Turning \"Sample Measurement\" column into target (output) array and dropping from df\n",
        "\n",
        "target = df[\"Sample Measurement\"]\n",
        "df = df.drop(\"Sample Measurement\", axis = 'columns')"
      ],
      "metadata": {
        "id": "yc04ldt5dxyo"
      },
      "execution_count": null,
      "outputs": []
    },
    {
      "cell_type": "code",
      "source": [
        "#Splitting dataset into 80/20 train/test split and checking shape\n",
        "\n",
        "split_point1 = int(0.6 * len(df))\n",
        "split_point2 = int(0.8 * len(df))\n",
        "\n",
        "x_train = df[0:split_point1]\n",
        "x_test = df[split_point1:split_point2]\n",
        "x_val = df[split_point2:]\n",
        "\n",
        "y_train = target[0:split_point1]\n",
        "y_test = target[split_point1:split_point2]\n",
        "y_val = target[split_point2:]\n",
        "\n",
        "print(x_train.shape, y_train.shape, x_test.shape, y_test.shape, x_val.shape, y_val.shape)"
      ],
      "metadata": {
        "id": "e52Ngmuz50Tu",
        "colab": {
          "base_uri": "https://localhost:8080/"
        },
        "outputId": "9ea9a44f-c214-4893-b9e9-5a9600e298b7"
      },
      "execution_count": null,
      "outputs": [
        {
          "output_type": "stream",
          "name": "stdout",
          "text": [
            "(119, 8) (119,) (40, 8) (40,) (40, 8) (40,)\n"
          ]
        }
      ]
    },
    {
      "cell_type": "code",
      "source": [
        "#converting df DataFrame objects to Numpy, so reshape function can be applied\n",
        "\n",
        "x_train = x_train.to_numpy()\n",
        "x_test = x_test.to_numpy()\n",
        "x_val = x_val.to_numpy()\n",
        "\n",
        "y_train = y_train.to_numpy()\n",
        "y_test = y_test.to_numpy()\n",
        "y_val = y_val.to_numpy()"
      ],
      "metadata": {
        "id": "S7IQ5ovG8FXI"
      },
      "execution_count": null,
      "outputs": []
    },
    {
      "cell_type": "markdown",
      "source": [
        "Following code implements the method that utilizes 24 hours of input, to predict the next 24 hours\n",
        "\n",
        "(other file utilizes 23 hours of input, to predict the 24th hour)"
      ],
      "metadata": {
        "id": "mg_gxCRfQn40"
      }
    },
    {
      "cell_type": "code",
      "source": [
        "#Defining function that uses sliding window method to divide input data set into sequences of 24 hours\n",
        "\n",
        "def hourly_sequencer(inputArray):\n",
        "  sequence_length = 24\n",
        "  sequences = []\n",
        "\n",
        "  for j in range(inputArray.shape[0]-sequence_length):\n",
        "    window = []\n",
        "    for i in range(sequence_length):\n",
        "      window.append(inputArray[j+i])\n",
        "      temp_window = np.array(window)\n",
        "\n",
        "    sequences.append(temp_window.flatten())\n",
        "\n",
        "  return sequences"
      ],
      "metadata": {
        "id": "tQc9WJ9Pu_ML"
      },
      "execution_count": null,
      "outputs": []
    },
    {
      "cell_type": "code",
      "source": [
        "#Performs the 24 hour division on the training input data set, and training output data set\n",
        "\n",
        "x_train_adjusted = hourly_sequencer(x_train)\n",
        "x_train_adjusted = np.array(x_train_adjusted)\n",
        "\n",
        "print(x_train_adjusted.shape)\n",
        "\n",
        "y_train_final = hourly_sequencer(y_train)\n",
        "y_train_final = np.array(y_train_final)\n",
        "\n",
        "print(y_train_final.shape)"
      ],
      "metadata": {
        "id": "0mWWSSnJvu63",
        "colab": {
          "base_uri": "https://localhost:8080/"
        },
        "outputId": "8a8b5fe6-5c61-419a-aadb-0b0ecc9a5180"
      },
      "execution_count": null,
      "outputs": [
        {
          "output_type": "stream",
          "name": "stdout",
          "text": [
            "(95, 192)\n",
            "(95, 24)\n"
          ]
        }
      ]
    },
    {
      "cell_type": "code",
      "source": [
        "#Reshaping current data format to fit 3D input array for LSTM\n",
        "#(num_of_samples, num_timesteps, num_features)\n",
        "#(total # of data points, 1 incremental timestep, 192 input categories)\n",
        "\n",
        "x_train_final = np.reshape(x_train_adjusted, (x_train_adjusted.shape[0], 1, x_train_adjusted.shape[1]))\n",
        "\n",
        "print(x_train_final.shape)"
      ],
      "metadata": {
        "id": "CT598j9Bxfmn",
        "colab": {
          "base_uri": "https://localhost:8080/"
        },
        "outputId": "ad2b662e-762b-4479-a931-18e643a339ff"
      },
      "execution_count": null,
      "outputs": [
        {
          "output_type": "stream",
          "name": "stdout",
          "text": [
            "(95, 1, 192)\n"
          ]
        }
      ]
    },
    {
      "cell_type": "code",
      "source": [
        "#Building LSTM model\n",
        "\n",
        "model = Sequential() #For linear stack of layers\n",
        "model.add(LSTM(x_train_adjusted.shape[0], input_shape=(1, x_train_adjusted.shape[1]))) #LSTM dimensions (≈, 1, 192)\n",
        "model.add(Dense(24)) #Fully connected output layer with 24 nodes (for predicting 24 hours)"
      ],
      "metadata": {
        "id": "1rvwHKsVx8ZZ"
      },
      "execution_count": null,
      "outputs": []
    },
    {
      "cell_type": "code",
      "source": [
        "#Compiling and fitting dataset to model\n",
        "\n",
        "#RMSE used beacuse it computes root mean squared error metric between y_true and y_pred\n",
        "model.compile(loss=\"mean_squared_error\", optimizer='adam', metrics=[tf.keras.metrics.RootMeanSquaredError()])\n",
        "\n",
        "model.fit(x_train_final, y_train_final, epochs=5, batch_size=32)"
      ],
      "metadata": {
        "colab": {
          "base_uri": "https://localhost:8080/"
        },
        "id": "FkQyN15o0jw5",
        "outputId": "e1d805dd-3cb4-4c88-8646-21e70b9fbeb9"
      },
      "execution_count": null,
      "outputs": [
        {
          "output_type": "stream",
          "name": "stdout",
          "text": [
            "Epoch 1/5\n",
            "3/3 [==============================] - 7s 11ms/step - loss: 0.0875 - root_mean_squared_error: 0.2958\n",
            "Epoch 2/5\n",
            "3/3 [==============================] - 0s 6ms/step - loss: 0.0454 - root_mean_squared_error: 0.2132\n",
            "Epoch 3/5\n",
            "3/3 [==============================] - 0s 6ms/step - loss: 0.0348 - root_mean_squared_error: 0.1864\n",
            "Epoch 4/5\n",
            "3/3 [==============================] - 0s 6ms/step - loss: 0.0336 - root_mean_squared_error: 0.1834\n",
            "Epoch 5/5\n",
            "3/3 [==============================] - 0s 6ms/step - loss: 0.0340 - root_mean_squared_error: 0.1845\n"
          ]
        },
        {
          "output_type": "execute_result",
          "data": {
            "text/plain": [
              "<keras.src.callbacks.History at 0x7b5ae1cf0130>"
            ]
          },
          "metadata": {},
          "execution_count": 46
        }
      ]
    },
    {
      "cell_type": "code",
      "source": [
        "test = np.reshape(x_train_final[1], (x_train_final[1].shape[0], 1, x_train_final[1].shape[1]))\n",
        "print(test.shape)"
      ],
      "metadata": {
        "colab": {
          "base_uri": "https://localhost:8080/"
        },
        "id": "wX7CJl9v0szd",
        "outputId": "d5d4ced6-79e5-4775-fa8f-13685475d55c"
      },
      "execution_count": null,
      "outputs": [
        {
          "output_type": "stream",
          "name": "stdout",
          "text": [
            "(1, 1, 192)\n"
          ]
        }
      ]
    },
    {
      "cell_type": "code",
      "source": [
        "test_predicted_val = model.predict(test)"
      ],
      "metadata": {
        "colab": {
          "base_uri": "https://localhost:8080/"
        },
        "id": "89sZ82lN1M55",
        "outputId": "6620d5ff-294e-4142-b5b2-cbce5f28a3bf"
      },
      "execution_count": null,
      "outputs": [
        {
          "output_type": "stream",
          "name": "stdout",
          "text": [
            "1/1 [==============================] - 1s 638ms/step\n"
          ]
        }
      ]
    },
    {
      "cell_type": "code",
      "source": [
        "test_predicted_val"
      ],
      "metadata": {
        "colab": {
          "base_uri": "https://localhost:8080/"
        },
        "id": "OJixRAwI1Z2Y",
        "outputId": "1ff00a7b-b3d9-4e46-92e3-bb4a5639bc02"
      },
      "execution_count": null,
      "outputs": [
        {
          "output_type": "execute_result",
          "data": {
            "text/plain": [
              "array([[0.17039582, 0.31042355, 0.18617867, 0.2916392 , 0.18283343,\n",
              "        0.3105314 , 0.28381935, 0.25328597, 0.28530365, 0.24055193,\n",
              "        0.3488671 , 0.30518746, 0.31295604, 0.24396965, 0.31773746,\n",
              "        0.28238603, 0.3368412 , 0.34009048, 0.325251  , 0.23662394,\n",
              "        0.1586398 , 0.19318287, 0.18697111, 0.29167038]], dtype=float32)"
            ]
          },
          "metadata": {},
          "execution_count": 49
        }
      ]
    },
    {
      "cell_type": "code",
      "source": [
        "y_train_final[1]"
      ],
      "metadata": {
        "colab": {
          "base_uri": "https://localhost:8080/"
        },
        "id": "ElwxyZ3t1nzy",
        "outputId": "c73a362a-1f07-40dd-a5ae-e5b49527b1fb"
      },
      "execution_count": null,
      "outputs": [
        {
          "output_type": "execute_result",
          "data": {
            "text/plain": [
              "array([0.1, 0.1, 0.1, 0.1, 0.1, 0.1, 0.1, 0.1, 0.1, 0.1, 0.1, 0.1, 0.1,\n",
              "       0.1, 0.1, 0.1, 0.2, 0.3, 0.4, 0.2, 0.2, 0.2, 0.1, 0.1])"
            ]
          },
          "metadata": {},
          "execution_count": 50
        }
      ]
    }
  ]
}